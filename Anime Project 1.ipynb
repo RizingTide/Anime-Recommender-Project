{
 "cells": [
  {
   "cell_type": "code",
   "execution_count": null,
   "metadata": {},
   "outputs": [],
   "source": [
    "hello\n"
   ]
  },
  {
   "attachments": {},
   "cell_type": "markdown",
   "metadata": {},
   "source": [
    "Libraries"
   ]
  },
  {
   "cell_type": "code",
   "execution_count": null,
   "metadata": {},
   "outputs": [],
   "source": [
    "import pandas as pd\n",
    "import numpy as np"
   ]
  },
  {
   "cell_type": "code",
   "execution_count": null,
   "metadata": {},
   "outputs": [],
   "source": [
    "anime_df = pd.read_csv('anime.csv')\n",
    "rating_df = pd.read_csv('rating.csv')\n",
    "\n",
    "print(anime_df)\n",
    "print(rating_df)"
   ]
  },
  {
   "attachments": {},
   "cell_type": "markdown",
   "metadata": {},
   "source": [
    "Info"
   ]
  },
  {
   "cell_type": "code",
   "execution_count": null,
   "metadata": {},
   "outputs": [],
   "source": []
  },
  {
   "attachments": {},
   "cell_type": "markdown",
   "metadata": {},
   "source": [
    "Functionality:\n",
    "    -prints out a list of ALL genres for the user to see\n",
    "    -prompt the user to choose 1 genre that they are interested in\n",
    "    -prompt the user to choose between:\n",
    "        -TOP 5 animes in the genre of their choosing\n",
    "        -5 random animes in the genre of their choosing\n",
    "    -returns back a list of those 5 animes to the user\n",
    "    -also returns 1 fun fact to the user \n",
    "        -which can be an analysis from the questions below  \n",
    "\n",
    "Questions:\n",
    "    easy:\n",
    "        -find the top 5 anime in the genre 'Supernatural' by rating\n",
    "        -find the worst 5 anime in the genre 'Action' by rating\n",
    "        -anime with the least amount of episodes\n",
    "        -anime with the most amount of episodes\n",
    "        -# of tv shows vs. # of movies vs. # of OVA\n",
    "        -most common word in the name\n",
    "        -title with the longest name\n",
    "    hard:\n",
    "        -is there a correlation between the length of an anime's name and number of members\n",
    "            ex: if a name is too long, would it make someone uninterested in watching it\n",
    "        -is there a correlation between the number of genres and the number of members\n",
    "            ex: if there are more genres, will it attract more users\n",
    "        "
   ]
  },
  {
   "cell_type": "markdown",
   "metadata": {},
   "source": []
  }
 ],
 "metadata": {
  "language_info": {
   "name": "python"
  },
  "orig_nbformat": 4
 },
 "nbformat": 4,
 "nbformat_minor": 2
}
