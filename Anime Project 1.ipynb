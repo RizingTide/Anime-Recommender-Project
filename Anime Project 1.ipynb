{
 "cells": [
  {
   "attachments": {},
   "cell_type": "markdown",
   "metadata": {},
   "source": [
    "Anime Recommender Project"
   ]
  },
  {
   "attachments": {},
   "cell_type": "markdown",
   "metadata": {},
   "source": [
    "Libraries "
   ]
  },
  {
   "cell_type": "code",
   "execution_count": 2,
   "metadata": {},
   "outputs": [],
   "source": [
    "# For Dataframe, and analysis\n",
    "import pandas as pd\n",
    "import numpy as np\n",
    "\n",
    "# For Visualization \n",
    "import seaborn as sns\n",
    "import matplotlib as mpl\n",
    "import matplotlib.pyplot as plt\n",
    "import matplotlib.pylab as pylab"
   ]
  },
  {
   "cell_type": "code",
   "execution_count": 3,
   "metadata": {},
   "outputs": [
    {
     "name": "stdout",
     "output_type": "stream",
     "text": [
      "       anime_id                                               name  \\\n",
      "0         32281                                     Kimi no Na wa.   \n",
      "1          5114                   Fullmetal Alchemist: Brotherhood   \n",
      "2         28977                                           Gintama°   \n",
      "3          9253                                        Steins;Gate   \n",
      "4          9969                                      Gintama&#039;   \n",
      "...         ...                                                ...   \n",
      "12289      9316       Toushindai My Lover: Minami tai Mecha-Minami   \n",
      "12290      5543                                        Under World   \n",
      "12291      5621                     Violence Gekiga David no Hoshi   \n",
      "12292      6133  Violence Gekiga Shin David no Hoshi: Inma Dens...   \n",
      "12293     26081                   Yasuji no Pornorama: Yacchimae!!   \n",
      "\n",
      "                                                   genre   type episodes  \\\n",
      "0                   Drama, Romance, School, Supernatural  Movie        1   \n",
      "1      Action, Adventure, Drama, Fantasy, Magic, Mili...     TV       64   \n",
      "2      Action, Comedy, Historical, Parody, Samurai, S...     TV       51   \n",
      "3                                       Sci-Fi, Thriller     TV       24   \n",
      "4      Action, Comedy, Historical, Parody, Samurai, S...     TV       51   \n",
      "...                                                  ...    ...      ...   \n",
      "12289                                             Hentai    OVA        1   \n",
      "12290                                             Hentai    OVA        1   \n",
      "12291                                             Hentai    OVA        4   \n",
      "12292                                             Hentai    OVA        1   \n",
      "12293                                             Hentai  Movie        1   \n",
      "\n",
      "       rating  members  \n",
      "0        9.37   200630  \n",
      "1        9.26   793665  \n",
      "2        9.25   114262  \n",
      "3        9.17   673572  \n",
      "4        9.16   151266  \n",
      "...       ...      ...  \n",
      "12289    4.15      211  \n",
      "12290    4.28      183  \n",
      "12291    4.88      219  \n",
      "12292    4.98      175  \n",
      "12293    5.46      142  \n",
      "\n",
      "[12294 rows x 7 columns]\n"
     ]
    }
   ],
   "source": [
    "anime_df = pd.read_csv('anime.csv')\n",
    "# rating_df = pd.read_csv('rating.csv')\n",
    "\n",
    "print(anime_df)\n",
    "# print(rating_df)"
   ]
  },
  {
   "attachments": {},
   "cell_type": "markdown",
   "metadata": {},
   "source": [
    "Info"
   ]
  },
  {
   "cell_type": "code",
   "execution_count": null,
   "metadata": {},
   "outputs": [],
   "source": [
    "pd.read_csv(‘file.csv’, header=None, nrows=5) #read x amount of rows \n",
    "df.to_csv('myDataFrame.csv') # write to csv\n",
    "\n",
    "df.drop(\"country\", axis=1) # Drop certain rows from a column\n",
    "df.sort_values(by=\"Country\") # Sort values by column \n",
    "df.rank() # Assign rank to entries\n",
    "\n",
    "df[-1] # can slice/index dataframes \n",
    "df[1:] # get subsets of information (muiltiple rows)\n",
    "\n",
    "df.iloc[[0],[0]] # Select single value by row & column\n",
    "\n",
    "df.loc[[0], ['Country']] # Get valeue by row# and column name \n",
    "df.ix[2] #Select single row of subset of rows]\n",
    "\n",
    "## Getting the shape and description of dataframe, basic info\n",
    "df.shape #(rows,columns)\n",
    "df.index #Describe index\n",
    "df.columns #Describe DataFrame columns\n",
    "df.info() #Info on DataFrame\n",
    "df.count() #Number of non-NA values\n",
    "\n",
    "## math operations and analysis \n",
    "df.sum() #Sum of values\n",
    "df.cumsum() #Cummulative sum of values\n",
    "df.min()/df.max() #Minimum/maximum values\n",
    "df.idxmin()/df.idxmax() #Minimum/Maximum index value\n",
    "df.describe() #Summary statistics\n",
    "df.mean() #Mean of values\n",
    "df.median() #Median of values\n",
    "\n",
    "# Getting info\n",
    "f = lambda x: x*2\n",
    "df.apply(f) # How to use the function \n",
    "df.applymap(f) # How to apply \n"
   ]
  },
  {
   "attachments": {},
   "cell_type": "markdown",
   "metadata": {},
   "source": [
    "Functionality:\n",
    "    -prints out a list of ALL genres for the user to see\n",
    "    -prompt the user to choose 1 genre that they are interested in\n",
    "    -prompt the user to choose between:\n",
    "        -TOP 5 animes in the genre of their choosing\n",
    "        -5 random animes in the genre of their choosing\n",
    "    -returns back a list of those 5 animes to the user\n",
    "    -also returns 1 fun fact to the user \n",
    "        -which can be an analysis from the questions below  \n",
    "\n",
    "Questions:\n",
    "    easy:\n",
    "        -find the top 5 anime in the genre 'Supernatural' by rating\n",
    "        -find the worst 5 anime in the genre 'Action' by rating\n",
    "        -anime with the least amount of episodes\n",
    "        -anime with the most amount of episodes\n",
    "        -# of tv shows vs. # of movies vs. # of OVA\n",
    "        -most common word in the name\n",
    "        -title with the longest name\n",
    "    hard:\n",
    "        -is there a correlation between the length of an anime's name and number of members\n",
    "            ex: if a name is too long, would it make someone uninterested in watching it\n",
    "        -is there a correlation between the number of genres and the number of members\n",
    "            ex: if there are more genres, will it attract more users\n",
    "        "
   ]
  },
  {
   "attachments": {},
   "cell_type": "markdown",
   "metadata": {},
   "source": [
    "Momo\n",
    "What are the top 5 anime in the genre 'Supernatural' by rating?\n",
    "-# of tv shows vs. # of movies vs. # of OVA\n",
    "-anime with the most amount of episodes\n",
    "-is there a correlation between the number of genres and the number of members\n",
    "  ex: if there are more genres, will it attract more users"
   ]
  },
  {
   "cell_type": "code",
   "execution_count": 121,
   "metadata": {},
   "outputs": [
    {
     "data": {
      "text/plain": [
       "[Text(0, 0, 'Kimi no Na wa.'),\n",
       " Text(1, 0, 'Clannad: After Story'),\n",
       " Text(2, 0, 'Sen to Chihiro no Kamikakushi'),\n",
       " Text(3, 0, 'Mushishi Zoku Shou 2nd Season'),\n",
       " Text(4, 0, 'One Punch Man'),\n",
       " Text(5, 0, 'Suzumiya Haruhi no Shoushitsu'),\n",
       " Text(6, 0, 'Monogatari Series: Second Season'),\n",
       " Text(7, 0, 'Mushishi Zoku Shou'),\n",
       " Text(8, 0, 'Mushishi'),\n",
       " Text(9, 0, 'Natsume Yuujinchou Go')]"
      ]
     },
     "execution_count": 121,
     "metadata": {},
     "output_type": "execute_result"
    },
    {
     "data": {
      "image/png": "[encoded data removed]",
      "text/plain": [
       "<Figure size 640x480 with 1 Axes>"
      ]
     },
     "metadata": {},
     "output_type": "display_data"
    }
   ],
   "source": [
    "# What are the top 10 anime in the genre 'Supernatural' by rating?\n",
    "# We should look into the anime dataframe and filter for supernatural genre. I know I can use .head(5) to display the top 5 \n",
    "supernatural=(anime_df[\"genre\"].apply(lambda x: \"Supernatural\" in str(x)))\n",
    "anime_df[supernatural].sort_values(\"rating\", ascending=False).head(10)\n",
    "\n",
    "# Creating a Bar Chart using Seaborn\n",
    "anime_supernatural = anime_df[supernatural].sort_values(\"rating\", ascending=False).head(10)\n",
    "set_ax= sns.barplot(x=\"name\", y=\"rating\", data=anime_supernatural, palette=\"dark\")\n",
    "\n",
    "# Setting the y range from 8 onwards, Setting the axis and title labels\n",
    "set_ax.set_ylim(8)\n",
    "set_ax.set_title(\"Top 10 Supernatural Anime\", fontsize=23)\n",
    "set_ax.set_xlabel(\"Anime\", fontsize=20)\n",
    "set_ax.set_ylabel(\"Ratings\", fontsize=20)\n",
    "\n",
    "# Formatting and rotating the x tick labels for better viewing\n",
    "set_ax.set_xticklabels(set_ax.get_xticklabels(), fontsize=6, rotation=90)\n"
   ]
  },
  {
   "cell_type": "code",
   "execution_count": null,
   "metadata": {},
   "outputs": [],
   "source": [
    "# Find # of tv shows vs. # of movies vs. # of OVA\n",
    "type_df=anime_df['type'].value_counts()\n",
    "print(\"# of TV Shows: {} vs # of Movies: {} vs # of OVA: {}\".format(type_df[\"TV\"], type_df[\"Movie\"], type_df[\"OVA\"]))\n",
    "\n"
   ]
  },
  {
   "cell_type": "code",
   "execution_count": null,
   "metadata": {},
   "outputs": [],
   "source": [
    "# What is the anime with the most amount of episodes\n",
    "# Check if the anime is either a TV show or OVA and if there is 1 or more episodes \n",
    "# Sort in descending order and get the top 5 rows \n",
    "type_anime=(anime_df[\"type\"].isin([\"TV\", \"OVA\"]) & anime_df[\"episodes\"] >0)\n",
    "anime_df[type_anime].sort_values(\"episodes\", ascending=False).head(5)\n",
    "\n"
   ]
  },
  {
   "cell_type": "code",
   "execution_count": null,
   "metadata": {},
   "outputs": [],
   "source": []
  },
  {
   "attachments": {},
   "cell_type": "markdown",
   "metadata": {},
   "source": [
    "Jon \n",
    "-find the worst 5 anime in the genre 'Action' by rating\n",
    "        -anime with the least amount of episodes\n",
    "        -most common word in the name\n",
    "        -is there a correlation between the length of an anime's name and number of members\n",
    "            ex: if a name is too long, would it make someone uninterested in watching it"
   ]
  },
  {
   "cell_type": "code",
   "execution_count": null,
   "metadata": {},
   "outputs": [],
   "source": [
    "#### find the worst 5 anime in the genre 'Action' by rating\n",
    "# filter by genre\n",
    "action = anime_df['genre'].apply(lambda x: \"Action\" in str(x))\n",
    "worst_animes = anime_df[action].sort_values('rating').head(10)\n",
    "# bar graph\n",
    "ax = sns.barplot(x='name', y='rating', data=worst_animes)\n",
    "ax.set_title('10 Worst Action Animes', fontsize=23)\n",
    "ax.set_xlabel('Anime', fontsize=20)\n",
    "ax.set_ylabel('Rating', fontsize=20)\n",
    "ax.set_ylim(1)\n",
    "ax.set_xticklabels(ax.get_xticklabels(), fontsize=6, rotation=90)"
   ]
  },
  {
   "cell_type": "code",
   "execution_count": null,
   "metadata": {},
   "outputs": [],
   "source": [
    "#### 10 anime with the least amount of episodes\n",
    "ova = anime_df['type'].isin(['OVA'])\n",
    "anime_df[ova].sort_values('episodes').head(10)"
   ]
  },
  {
   "cell_type": "code",
   "execution_count": null,
   "metadata": {},
   "outputs": [],
   "source": [
    "#### 10 anime with the least amount of episodes\n",
    "tv = (anime_df['type'].isin(['TV']))\n",
    "anime_df[tv].sort_values('episodes').head(10)"
   ]
  },
  {
   "cell_type": "code",
   "execution_count": null,
   "metadata": {},
   "outputs": [],
   "source": [
    "#### most common word in the name\n",
    "# includes uninteresting words though (which is NOT good) \n",
    "pd.Series(' '.join(anime_df['name']).lower().split()).value_counts()[:100]"
   ]
  },
  {
   "cell_type": "code",
   "execution_count": null,
   "metadata": {},
   "outputs": [],
   "source": [
    "#### find the ratings percentile - ova, tv, movie\n",
    "# filter out NaN\n",
    "filter_nan = anime_df['rating'].notnull()\n",
    "# sort by rating\n",
    "df = anime_df[filter_nan].sort_values('rating', ascending=False)\n",
    "# filter by type\n",
    "ova = anime_df['type'].isin(['OVA'])\n",
    "tv = anime_df['type'].isin(['TV'])\n",
    "movie = anime_df['type'].isin(['Movie'])\n",
    "# create seperate df based on type\n",
    "ova_df = df[ova]\n",
    "tv_df = df[tv]\n",
    "movie_df = df[movie]\n",
    "\n",
    "#-----------------------------------------------\n",
    "# ova_df.head(1) # highest - 9.25\n",
    "# ova_df.tail(1) # lowest - 2.0\n",
    "# ax = sns.boxplot(data=ova_df, y='rating')\n",
    "# ax.set_title('OVA', fontsize=22)\n",
    "\n",
    "# tv_df.head(1) # highest - 9.6\n",
    "# tv_df.tail(1) # lowest - 2.67\n",
    "# ax = sns.boxplot(data=tv_df, y='rating')\n",
    "# ax.set_title('TV', fontsize=22)\n",
    "\n",
    "# movie_df.head(1) # highest - 10\n",
    "# movie_df.tail(1) # lowest - 1.92\n",
    "# ax = sns.boxplot(data=movie_df, y='rating')\n",
    "# ax.set_title('Movie', fontsize=22)\n",
    "#-----------------------------------------------\n",
    "\n",
    "# create new column\n",
    "ova_df['anime_type'] = 'ova'\n",
    "tv_df['anime_type'] = 'tv'\n",
    "movie_df['anime_type'] = 'movie'\n",
    "# concat all df\n",
    "dfs = [ova_df, tv_df, movie_df]\n",
    "all_df = pd.concat(dfs)\n",
    "# boxplot graph\n",
    "ax = sns.boxplot(x='anime_type', y='rating', data=all_df)\n",
    "ax.set_title('Rating Percentiles', fontsize=23)\n",
    "ax.set_xlabel('Anime Type', fontsize=20)\n",
    "ax.set_ylabel('Rating', fontsize=20)"
   ]
  }
 ],
 "metadata": {
  "kernelspec": {
   "display_name": "Python 3",
   "language": "python",
   "name": "python3"
  },
  "language_info": {
   "codemirror_mode": {
    "name": "ipython",
    "version": 3
   },
   "file_extension": ".py",
   "mimetype": "text/x-python",
   "name": "python",
   "nbconvert_exporter": "python",
   "pygments_lexer": "ipython3",
   "version": "3.11.0"
  },
  "orig_nbformat": 4,
  "vscode": {
   "interpreter": {
    "hash": "aee8b7b246df8f9039afb4144a1f6fd8d2ca17a180786b69acc140d282b71a49"
   }
  }
 },
 "nbformat": 4,
 "nbformat_minor": 2
}
