{
 "cells": [
  {
   "attachments": {},
   "cell_type": "markdown",
   "metadata": {},
   "source": [
    "Anime Recommender Project"
   ]
  },
  {
   "attachments": {},
   "cell_type": "markdown",
   "metadata": {},
   "source": [
    "Libraries "
   ]
  },
  {
   "cell_type": "code",
   "execution_count": null,
   "metadata": {},
   "outputs": [],
   "source": [
    "# For Dataframe, and analysis\n",
    "import pandas as pd\n",
    "import numpy as np\n",
    "\n",
    "# For Visualization \n",
    "import seaborn as sns\n",
    "import matplotlib as mpl\n",
    "import matplotlib.pyplot as plt\n",
    "import matplotlib.pylab as pylab"
   ]
  },
  {
   "cell_type": "code",
   "execution_count": null,
   "metadata": {},
   "outputs": [],
   "source": [
    "anime_df = pd.read_csv('anime.csv')\n",
    "rating_df = pd.read_csv('rating.csv')\n",
    "\n",
    "# Getting info about data frame and data types\n",
    "anime_df.info()\n",
    "# rating_df.info()"
   ]
  },
  {
   "attachments": {},
   "cell_type": "markdown",
   "metadata": {},
   "source": [
    "Info"
   ]
  },
  {
   "cell_type": "code",
   "execution_count": null,
   "metadata": {},
   "outputs": [],
   "source": [
    "pd.read_csv(‘file.csv’, header=None, nrows=5) #read x amount of rows \n",
    "df.to_csv('myDataFrame.csv') # write to csv\n",
    "\n",
    "df.drop(\"country\", axis=1) # Drop certain rows from a column\n",
    "df.sort_values(by=\"Country\") # Sort values by column \n",
    "df.rank() # Assign rank to entries\n",
    "\n",
    "df[-1] # can slice/index dataframes \n",
    "df[1:] # get subsets of information (muiltiple rows)\n",
    "\n",
    "df.iloc[[0],[0]] # Select single value by row & column\n",
    "\n",
    "df.loc[[0], ['Country']] # Get valeue by row# and column name \n",
    "df.ix[2] #Select single row of subset of rows]\n",
    "\n",
    "## Getting the shape and description of dataframe, basic info\n",
    "df.shape #(rows,columns)\n",
    "df.index #Describe index\n",
    "df.columns #Describe DataFrame columns\n",
    "df.info() #Info on DataFrame\n",
    "df.count() #Number of non-NA values\n",
    "\n",
    "## math operations and analysis \n",
    "df.sum() #Sum of values\n",
    "df.cumsum() #Cummulative sum of values\n",
    "df.min()/df.max() #Minimum/maximum values\n",
    "df.idxmin()/df.idxmax() #Minimum/Maximum index value\n",
    "df.describe() #Summary statistics\n",
    "df.mean() #Mean of values\n",
    "df.median() #Median of values\n",
    "\n",
    "# Getting info\n",
    "f = lambda x: x*2\n",
    "df.apply(f) # How to use the function \n",
    "df.applymap(f) # How to apply \n"
   ]
  },
  {
   "attachments": {},
   "cell_type": "markdown",
   "metadata": {},
   "source": [
    "Functionality:\n",
    "    -prints out a list of ALL genres for the user to see\n",
    "    -prompt the user to choose 1 genre that they are interested in\n",
    "    -prompt the user to choose between:\n",
    "        -TOP 5 animes in the genre of their choosing\n",
    "        -5 random animes in the genre of their choosing\n",
    "    -returns back a list of those 5 animes to the user\n",
    "    -also returns 1 fun fact to the user \n",
    "        -which can be an analysis from the questions below  \n",
    "\n",
    "Questions:\n",
    "    easy:\n",
    "        -find the top 5 anime in the genre 'Supernatural' by rating\n",
    "        -find the worst 5 anime in the genre 'Action' by rating\n",
    "        -anime with the least amount of episodes\n",
    "        -anime with the most amount of episodes\n",
    "        -# of tv shows vs. # of movies vs. # of OVA\n",
    "        -most common word in the name\n",
    "        -title with the longest name\n",
    "    hard:\n",
    "        -is there a correlation between the length of an anime's name and number of members\n",
    "            ex: if a name is too long, would it make someone uninterested in watching it\n",
    "        -is there a correlation between the number of genres and the number of members\n",
    "            ex: if there are more genres, will it attract more users\n",
    "        "
   ]
  },
  {
   "attachments": {},
   "cell_type": "markdown",
   "metadata": {},
   "source": [
    "Momo\n",
    "What are the top 5 anime in the genre 'Supernatural' by rating?\n",
    "-# of tv shows vs. # of movies vs. # of OVA\n",
    "-anime with the most amount of episodes\n",
    "-is there a correlation between the number of genres and the number of members\n",
    "  ex: if there are more genres, will it attract more users"
   ]
  },
  {
   "cell_type": "code",
   "execution_count": null,
   "metadata": {},
   "outputs": [],
   "source": [
    "# What are the top 10 anime in the genre 'Supernatural' by rating?\n",
    "# We should look into the anime dataframe and filter for supernatural genre. I know I can use .head(5) to display the top 5 \n",
    "supernatural=(anime_df[\"genre\"].apply(lambda x: \"Supernatural\" in str(x)))\n",
    "anime_df[supernatural].sort_values(\"rating\", ascending=False).head(10)\n",
    "\n",
    "# Creating a Bar Chart using Seaborn\n",
    "anime_supernatural = anime_df[supernatural].sort_values(\"rating\", ascending=False).head(10)\n",
    "plt.figure(figsize=(7,5))\n",
    "set_ax= sns.barplot(x=\"name\", y=\"rating\", data=anime_supernatural, palette=\"dark\")\n",
    "\n",
    "# Setting the y range from 8 onwards, Setting the axis and title labels\n",
    "set_ax.set_ylim(8)\n",
    "set_ax.set_title(\"Top 10 Supernatural Anime\\n\", fontsize=23)\n",
    "set_ax.set_xlabel(\"\\nAnime\", fontsize=20)\n",
    "set_ax.set_ylabel(\"Ratings\\n\", fontsize=20)\n",
    "    \n",
    "# Formatting and rotating the x tick labels for better viewing\n",
    "set_ax.set_xticklabels(set_ax.get_xticklabels(), fontsize=7, rotation=90)\n",
    "\n",
    "# Putting bar label amounts for better viewing\n",
    "for i in set_ax.containers:\n",
    "   set_ax.bar_label(i)\n",
    "\n",
    "plt.show()\n"
   ]
  },
  {
   "attachments": {},
   "cell_type": "markdown",
   "metadata": {},
   "source": [
    "Insights:\n",
    "- Kimi no Na wa holds the #1 spot with ease with a rating of 9.37\n",
    "    - It is 3.4% better rated than Clannad: After Story which holds the #2 spot \n",
    "    - It is 7.0% better rated than Natsume Yuujinchou Go which holds the #10 spot\n",
    "- The first half of the top 10 has an average rating difference of .112 whereas the latter half of the top 10 has an average rating difference of .012. The first half is 9.3x more volatile than the latter half. "
   ]
  },
  {
   "cell_type": "code",
   "execution_count": null,
   "metadata": {},
   "outputs": [],
   "source": [
    "# Find # of tv shows vs. # of movies vs. # of OVA\n",
    "type_df=anime_df['type'].value_counts()\n",
    "#print(\"# of TV Shows: {} vs # of Movies: {} vs # of OVA: {}\".format(type_df[\"TV\"], type_df[\"Movie\"], type_df[\"OVA\"]))\n",
    "\n",
    "print(type_df)\n",
    "\n",
    "plt.figure(figsize=(8.5,8.5))\n",
    "\n",
    "#wedges, texts, autotexts= plt.pie([len(type_df[\"TV\"][\"type\"])], [len(type_df[\"Movie\"][\"type\"])], [len(type_df[\"OVA\"][\"type\"])])\n",
    "#plt.legend(wedges)\n",
    "\n",
    "plt.pie(type_df.values, labels=type_df.index, shadow=True, explode = (0.1,0,0,0,0,0), autopct=\"%1.1f%%\")\n",
    "plt.legend(title=\"Anime Genres\")\n",
    "plt.title(\"\\nDistribution Of Anime Types\", fontsize=23)\n",
    "plt.show()\n"
   ]
  },
  {
   "attachments": {},
   "cell_type": "markdown",
   "metadata": {},
   "source": [
    "Insights:\n",
    "- Making up 77% of total, the top 3 types of anime streamed are TV, Movie, and OVA.\n",
    "    - 3787 animes are on the medium TV, making up 30.9% of tthe market. \n",
    "        - TV makes up 14.4% more of the anime market than the #2 spot OVA.\n",
    "        - TV makes up 61.3% more of the anime market than the #3 spot Movie.\n",
    "    - 3311 animes are on the medium OVA, making up 27.9% of the market. \n",
    "    - 2348 animes are on the medium Movie, making up 19.1% of the market.\n",
    "- Making up 23% of the total, the bottom 3 types of anime streamed are Special, ONA, Music. "
   ]
  },
  {
   "cell_type": "code",
   "execution_count": null,
   "metadata": {},
   "outputs": [],
   "source": [
    "# What is the anime with the most amount of episodes\n",
    "# Check if the anime is either a TV show or OVA and if there is 1 or more episodes \n",
    "# Sort in descending order and get the top 5 rows \n",
    "type_anime=(anime_df[\"type\"].isin([\"TV\", \"OVA\"]) & anime_df[\"episodes\"] >0)\n",
    "anime_df[type_anime].sort_values(\"episodes\", ascending=False).head(5)\n",
    "\n",
    "\n"
   ]
  },
  {
   "cell_type": "code",
   "execution_count": null,
   "metadata": {},
   "outputs": [],
   "source": [
    "# What is the distrubution of ratings? How many anime is there in each rating?\n",
    "# Histogram: x axis rating, y axis # of Animes\n",
    "\n",
    "anime_ratings=anime_df.sort_values([\"rating\"], ascending=False)\n",
    "plt.figure(figsize=(7.5,6))\n",
    "#sns.set(style=\"darkgrid\")\n",
    "\n",
    "hist_plot=sns.histplot(anime_ratings, x=anime_df[\"rating\"], bins=25, kde=True, line_kws={\"linestyle\": \"solid\", \"linewidth\": 3.5})\n",
    "#sns.kdeplot(anime_ratings, x=anime_df[\"rating\"], color=\"crimson\", ax=hist_plot)\n",
    "hist_plot.lines[0].set_color(\"crimson\")\n",
    "hist_plot.set_title(\"Distribution of Ratings\\n\", fontsize=23)\n",
    "hist_plot.set_xlabel(\"\\nRatings\", fontsize=20)\n",
    "hist_plot.set_ylabel(\"# of Animes\\n\", fontsize=20)\n",
    "plt.show()"
   ]
  },
  {
   "attachments": {},
   "cell_type": "markdown",
   "metadata": {},
   "source": [
    "Insights:\n",
    "- The majority of the anime ratings are are between 5 and 8.\n",
    "- The mode rating is between a 6-7, approximately a 6.6. \n",
    "- The distribution of ratings of animes is left skewed. This negative skew shows that the bulk of ratings are greater than the mean.\n",
    "    - The mode of anime ratings is greater than the median which is also greater than the mean. \n"
   ]
  },
  {
   "cell_type": "code",
   "execution_count": null,
   "metadata": {},
   "outputs": [],
   "source": [
    "#Cosine Similarity  \n",
    "\n",
    "#Scatterplot: x axis rating, y episodes/members/#ratings, see the relationship between the 2 variables, and make a line or curve of best fit\n",
    "\n",
    " "
   ]
  },
  {
   "attachments": {},
   "cell_type": "markdown",
   "metadata": {},
   "source": [
    "Jon \n",
    "- find the worst 5 anime in the genre 'Action' by rating\n",
    "- most common word in the name\n",
    "- find the ratings percentile - ova, tv, movie\n",
    "- anime with 1 genre vs 2 genres vs 3 genres vs 4 genres vs 5 genres vs 6 genres vs 7+\n",
    "- find the TOP 5 TV animes based on an anime's title (via cosine similarity)"
   ]
  },
  {
   "cell_type": "code",
   "execution_count": null,
   "metadata": {},
   "outputs": [],
   "source": [
    "#### find the worst 5 anime in the genre 'Action' by rating\n",
    "# filter by genre\n",
    "action = anime_df['genre'].apply(lambda x: \"Action\" in str(x))\n",
    "# sort by lowest ratings\n",
    "worst_animes = anime_df[action].sort_values('rating').head(10)\n",
    "#-----------------------------------------------        \n",
    "# bar graph\n",
    "ax = sns.barplot(x='name', y='rating', data=worst_animes)\n",
    "ax.set_title('10 Worst Action Animes', fontsize=23)\n",
    "ax.set_xlabel('Anime', fontsize=20)\n",
    "ax.set_ylabel('Rating', fontsize=20)\n",
    "ax.set_ylim(1)\n",
    "ax.set_xticklabels(ax.get_xticklabels(), fontsize=10, rotation=90)\n",
    "for i in ax.containers:\n",
    "    ax.bar_label(i)"
   ]
  },
  {
   "attachments": {},
   "cell_type": "markdown",
   "metadata": {},
   "source": [
    "Insights:\n",
    "- the worst anime is 'Hi Gekiga Ukiyoe Senya Ichiya' with a rating of 1.92\n",
    "    - 'Hi Gekiga Ukiyoe Senya Ichiya' is rated 23% worse compared to 'Roboteuwang Sseonsyakeu' which is the 2nd worst anime  \n",
    "    - 'Hi Gekiga Ukiyoe Senya Ichiya' is rated 43% worse compared to 'Sonyeon 007 Eunhateukgongdae' which is the 10 worst anime"
   ]
  },
  {
   "cell_type": "code",
   "execution_count": null,
   "metadata": {},
   "outputs": [],
   "source": [
    "#### most common word/symbols in name\n",
    "# find 25 most common words/symbols\n",
    "common_words_df = pd.Series(' '.join(anime_df['name']).lower().split()).value_counts()[:25].to_frame()\n",
    "common_words_df.columns = ['count']\n",
    "idx = common_words_df.index\n",
    "#-----------------------------------------------        \n",
    "# bar graph\n",
    "ax = sns.barplot(x=idx, y='count', data=common_words_df)\n",
    "ax.set_title('Most Common Words/Symbols in Title', fontsize=23)\n",
    "ax.set_xlabel('Word/Symbol', fontsize=20)\n",
    "ax.set_ylabel('Count', fontsize=20)\n",
    "ax.set_xticklabels(ax.get_xticklabels(), fontsize=8, rotation=90)\n",
    "for i in ax.containers:\n",
    "    ax.bar_label(i, fontsize=6.5, rotation=45)\n",
    "sns.despine(top=True)"
   ]
  },
  {
   "attachments": {},
   "cell_type": "markdown",
   "metadata": {},
   "source": [
    "Insights:\n",
    "- the most common word/symbol is 'no' ('no' in Japanese means 'of' in English so it is easy to see why its the most common word)"
   ]
  },
  {
   "cell_type": "code",
   "execution_count": null,
   "metadata": {},
   "outputs": [],
   "source": [
    "#### find the ratings percentile - ova, tv, movie\n",
    "# filter out NaN\n",
    "filter_nan = anime_df['rating'].notnull()\n",
    "# sort by rating\n",
    "df = anime_df[filter_nan].sort_values('rating', ascending=False)\n",
    "#-----------------------------------------------        \n",
    "# filter by type\n",
    "ova = anime_df['type'].isin(['OVA'])\n",
    "tv = anime_df['type'].isin(['TV'])\n",
    "movie = anime_df['type'].isin(['Movie'])\n",
    "# create new column\n",
    "df.loc[ova, 'anime_type'] = 'ova'\n",
    "df.loc[tv, 'anime_type'] = 'tv'\n",
    "df.loc[movie, 'anime_type'] = 'movie'\n",
    "#-----------------------------------------------        \n",
    "# boxplot graph\n",
    "ax = sns.boxplot(x='anime_type', y='rating', data=df)\n",
    "ax.set_title('Rating Percentiles', fontsize=23)\n",
    "ax.set_xlabel('Anime Type', fontsize=20)\n",
    "ax.set_ylabel('Rating', fontsize=20)\n",
    "plt.show()\n",
    "# tv_quantiles = np.quantile(df[df['type'] == 'TV']['rating'], np.array([0.00, 0.25, 0.50, 0.75, 1.00]))\n",
    "# ova_quantiles = np.quantile(df[df['type'] == 'OVA']['rating'], np.array([0.00, 0.25, 0.50, 0.75, 1.00]))\n",
    "# movie_quantiles = np.quantile(df[df['type'] == 'Movie']['rating'], np.array([0.00, 0.25, 0.50, 0.75, 1.00]))\n",
    "# print(movie_quantiles)\n",
    "# print(tv_quantiles)\n",
    "# print(ova_quantiles)\n"
   ]
  },
  {
   "attachments": {},
   "cell_type": "markdown",
   "metadata": {},
   "source": [
    "Insights:\n",
    "- the 25% quartile of ratings:\n",
    "    - movie:    5.42\n",
    "    - tv:       6.44 \n",
    "    - ova:      5.85 \n",
    "- the 50% quartile of ratings (the median):\n",
    "    - movie:    6.47 \n",
    "    - tv:       6.94\n",
    "    - ova:      6.38  \n",
    "- the 75% quartile of ratings:\n",
    "    - movie:    7.25\n",
    "    - tv:       7.46 \n",
    "    - ova:      6.92  \n",
    "- IQR (Interquartile Range):\n",
    "    - movie:    1.83\n",
    "    - tv:       1.02\n",
    "    - ova:      1.07\n",
    "- the movie-animes have a wider distribution of ratings (or a larger IQR) compared to tv-animes/ova-animes\n",
    "    - for each movie, more people tend to disagree about how good/bad it was\n",
    "    - for each tv/ova, more people were in agreement with each other about how good/bad it was"
   ]
  },
  {
   "cell_type": "code",
   "execution_count": null,
   "metadata": {},
   "outputs": [],
   "source": [
    "#### Anime with 1 genre vs 2 genres vs 3 genres vs 4 genres vs 5 genres vs 6 genres vs 7+\n",
    "from functools import reduce \n",
    "# filter out NaN\n",
    "filter_nan = anime_df['genre'].notnull()\n",
    "# store frequency (of # of genres per anime) in dictionary\n",
    "results = {}\n",
    "for row in anime_df[filter_nan]['genre']:\n",
    "    num_of_genres = len(row.split(', '))\n",
    "\n",
    "    if num_of_genres in results:\n",
    "        results[num_of_genres] += 1\n",
    "    else:\n",
    "        results[num_of_genres] = 1\n",
    "#-----------------------------------------------        \n",
    "# sort results by # of genres\n",
    "sorted_results = sorted(results.items(), key=lambda x: x[0])\n",
    "# create list of tuples\n",
    "new_results = sorted_results[:6] + [('7+', reduce(lambda x,y: x+y[1], sorted_results[6:], 0))]\n",
    "# convert list to df\n",
    "genre_df = pd.DataFrame(new_results)\n",
    "genre_df.columns = ['# of genres', 'count']\n",
    "#-----------------------------------------------        \n",
    "# pie chart\n",
    "colors = sns.color_palette('pastel')[0:7]\n",
    "plt.figure(figsize = (8, 8))\n",
    "plt.pie(genre_df['count'], labels=genre_df['# of genres'], shadow=True, colors=colors, explode=(0.2, 0, 0, 0, 0, 0, 0), autopct='%.2f%%', textprops={'fontsize':14})\n",
    "plt.title('\\nDistribution of Genres', fontsize=23)\n",
    "plt.legend(title='# of genres')\n",
    "plt.show()"
   ]
  },
  {
   "attachments": {},
   "cell_type": "markdown",
   "metadata": {},
   "source": [
    "Insights:\n",
    "- most animes have 1-3 genres, accounting for 66% of the total\n",
    "    - animes with 1 genre: 2804 animes which is 22.92%\n",
    "    - animes with 2 genres: 2677 animes which is 21.89%\n",
    "    - animes with 3 genres: 2599 animes which is 21.25%\n",
    "- animes with 5+ genres: 2212 animes accounting for 18% of the total\n",
    "- animes with 1-3 genres are 3.65x more prevalent than animes with 5+ genres"
   ]
  },
  {
   "cell_type": "code",
   "execution_count": null,
   "metadata": {},
   "outputs": [],
   "source": [
    "#### find the TOP 5 TV animes based on an anime's title (via cosine similarity)\n",
    "# search only for animes with the type of 'TV'  + filter out NaN\n",
    "tv_anime_df = anime_df[anime_df['type'] == 'TV']\n",
    "merged_df = pd.merge(tv_anime_df, rating_df, on='anime_id', suffixes=['', '_user'])\n",
    "merged_df['rating_user'].replace({-1:np.nan}, inplace=True)\n",
    "merged_df = merged_df.dropna(axis=0) \n",
    "# include only the users who rated 200 or more different animes\n",
    "counts = merged_df['user_id'].value_counts()\n",
    "merged_df = merged_df[merged_df['user_id'].isin(counts[counts >= 200].index)] \n",
    "# create pivot table\n",
    "anime_pivot_table = merged_df.pivot_table(index='name', columns='user_id', values='rating_user').fillna(0)\n",
    "#-----------------------------------------------        \n",
    "from scipy.sparse import csr_matrix \n",
    "anime_matrix = csr_matrix(anime_pivot_table.values)\n",
    "\n",
    "from sklearn.neighbors import NearestNeighbors\n",
    "anime_model = NearestNeighbors(metric = 'cosine', algorithm = 'brute')\n",
    "anime_model.fit(anime_matrix)\n",
    "#-----------------------------------------------\n",
    "# find the row number in pivot table based on anime's title        \n",
    "query = input(\"Enter an anime's title\")\n",
    "row_number = None\n",
    "\n",
    "for i, row in enumerate(anime_pivot_table.index):\n",
    "    if row == query:\n",
    "        row_number = i \n",
    "        break \n",
    "#-----------------------------------------------   \n",
    "# outputs the TOP 5 most similar animes if anime exists in pivot table otherwise prints error message    \n",
    "if row_number:\n",
    "    distances, indices = anime_model.kneighbors(anime_pivot_table.iloc[row_number, :].values.reshape(1, -1), n_neighbors=6)\n",
    "    \n",
    "    for i in range(0, len(distances.flatten())):\n",
    "        if i == 0:\n",
    "            print(f'Recommendations for {anime_pivot_table.index[row_number]}:\\n')\n",
    "        else:\n",
    "            print(f'{i}: {anime_pivot_table.index[indices.flatten()[i]]}, with distance of {distances.flatten()[i]}')\n",
    "else:\n",
    "    print('Sorry, cannot find anime...please try again')"
   ]
  }
 ],
 "metadata": {
  "kernelspec": {
   "display_name": "Python 3",
   "language": "python",
   "name": "python3"
  },
  "language_info": {
   "codemirror_mode": {
    "name": "ipython",
    "version": 3
   },
   "file_extension": ".py",
   "mimetype": "text/x-python",
   "name": "python",
   "nbconvert_exporter": "python",
   "pygments_lexer": "ipython3",
   "version": "3.11.0"
  },
  "orig_nbformat": 4,
  "vscode": {
   "interpreter": {
    "hash": "5238573367df39f7286bb46f9ff5f08f63a01a80960060ce41e3c79b190280fa"
   }
  }
 },
 "nbformat": 4,
 "nbformat_minor": 2
}
